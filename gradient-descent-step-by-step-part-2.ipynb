{
 "cells": [
  {
   "cell_type": "code",
   "execution_count": 1,
   "id": "949b1ba6",
   "metadata": {
    "_cell_guid": "b1076dfc-b9ad-4769-8c92-a6c4dae69d19",
    "_uuid": "8f2839f25d086af736a60e9eeb907d3b93b6e0e5",
    "execution": {
     "iopub.execute_input": "2025-03-12T02:43:55.001309Z",
     "iopub.status.busy": "2025-03-12T02:43:55.000977Z",
     "iopub.status.idle": "2025-03-12T02:43:55.908420Z",
     "shell.execute_reply": "2025-03-12T02:43:55.907294Z"
    },
    "papermill": {
     "duration": 0.915442,
     "end_time": "2025-03-12T02:43:55.910484",
     "exception": false,
     "start_time": "2025-03-12T02:43:54.995042",
     "status": "completed"
    },
    "tags": []
   },
   "outputs": [],
   "source": [
    "# This Python 3 environment comes with many helpful analytics libraries installed\n",
    "# It is defined by the kaggle/python Docker image: https://github.com/kaggle/docker-python\n",
    "# For example, here's several helpful packages to load\n",
    "\n",
    "import numpy as np # linear algebra\n",
    "import pandas as pd # data processing, CSV file I/O (e.g. pd.read_csv)\n",
    "\n",
    "# Input data files are available in the read-only \"../input/\" directory\n",
    "# For example, running this (by clicking run or pressing Shift+Enter) will list all files under the input directory\n",
    "\n",
    "import os\n",
    "for dirname, _, filenames in os.walk('/kaggle/input'):\n",
    "    for filename in filenames:\n",
    "        print(os.path.join(dirname, filename))\n",
    "\n",
    "# You can write up to 20GB to the current directory (/kaggle/working/) that gets preserved as output when you create a version using \"Save & Run All\" \n",
    "# You can also write temporary files to /kaggle/temp/, but they won't be saved outside of the current session"
   ]
  },
  {
   "cell_type": "code",
   "execution_count": 2,
   "id": "90e64c7d",
   "metadata": {
    "execution": {
     "iopub.execute_input": "2025-03-12T02:43:55.920567Z",
     "iopub.status.busy": "2025-03-12T02:43:55.920011Z",
     "iopub.status.idle": "2025-03-12T02:43:57.497781Z",
     "shell.execute_reply": "2025-03-12T02:43:57.496644Z"
    },
    "papermill": {
     "duration": 1.58481,
     "end_time": "2025-03-12T02:43:57.499807",
     "exception": false,
     "start_time": "2025-03-12T02:43:55.914997",
     "status": "completed"
    },
    "tags": []
   },
   "outputs": [],
   "source": [
    "from sklearn.datasets import make_regression\n",
    "import matplotlib.pyplot as plt\n",
    "from sklearn.model_selection import cross_val_score"
   ]
  },
  {
   "cell_type": "code",
   "execution_count": 3,
   "id": "67dd846f",
   "metadata": {
    "execution": {
     "iopub.execute_input": "2025-03-12T02:43:57.510234Z",
     "iopub.status.busy": "2025-03-12T02:43:57.509723Z",
     "iopub.status.idle": "2025-03-12T02:43:57.518677Z",
     "shell.execute_reply": "2025-03-12T02:43:57.517601Z"
    },
    "papermill": {
     "duration": 0.016251,
     "end_time": "2025-03-12T02:43:57.520608",
     "exception": false,
     "start_time": "2025-03-12T02:43:57.504357",
     "status": "completed"
    },
    "tags": []
   },
   "outputs": [],
   "source": [
    "x,y = make_regression(n_samples=100,n_features=1,n_informative=1,n_targets=1,noise=20)"
   ]
  },
  {
   "cell_type": "code",
   "execution_count": 4,
   "id": "ff270175",
   "metadata": {
    "execution": {
     "iopub.execute_input": "2025-03-12T02:43:57.530253Z",
     "iopub.status.busy": "2025-03-12T02:43:57.529869Z",
     "iopub.status.idle": "2025-03-12T02:43:57.841540Z",
     "shell.execute_reply": "2025-03-12T02:43:57.840346Z"
    },
    "papermill": {
     "duration": 0.318349,
     "end_time": "2025-03-12T02:43:57.843245",
     "exception": false,
     "start_time": "2025-03-12T02:43:57.524896",
     "status": "completed"
    },
    "tags": []
   },
   "outputs": [
    {
     "data": {
      "text/plain": [
       "<matplotlib.collections.PathCollection at 0x7d28fe5f7ca0>"
      ]
     },
     "execution_count": 4,
     "metadata": {},
     "output_type": "execute_result"
    },
    {
     "data": {
      "image/png": "[encoded data removed]",
      "text/plain": [
       "<Figure size 640x480 with 1 Axes>"
      ]
     },
     "metadata": {},
     "output_type": "display_data"
    }
   ],
   "source": [
    "plt.scatter(x,y)"
   ]
  },
  {
   "cell_type": "code",
   "execution_count": 5,
   "id": "d16f609a",
   "metadata": {
    "execution": {
     "iopub.execute_input": "2025-03-12T02:43:57.854101Z",
     "iopub.status.busy": "2025-03-12T02:43:57.853700Z",
     "iopub.status.idle": "2025-03-12T02:43:57.859306Z",
     "shell.execute_reply": "2025-03-12T02:43:57.858207Z"
    },
    "papermill": {
     "duration": 0.013034,
     "end_time": "2025-03-12T02:43:57.861157",
     "exception": false,
     "start_time": "2025-03-12T02:43:57.848123",
     "status": "completed"
    },
    "tags": []
   },
   "outputs": [],
   "source": [
    "from sklearn.model_selection import train_test_split\n",
    "x_train,x_test,y_train,y_test = train_test_split(x,y,test_size=0.2,random_state=2)"
   ]
  },
  {
   "cell_type": "code",
   "execution_count": 6,
   "id": "ff8bf19b",
   "metadata": {
    "execution": {
     "iopub.execute_input": "2025-03-12T02:43:57.871933Z",
     "iopub.status.busy": "2025-03-12T02:43:57.871453Z",
     "iopub.status.idle": "2025-03-12T02:43:58.007411Z",
     "shell.execute_reply": "2025-03-12T02:43:58.006300Z"
    },
    "papermill": {
     "duration": 0.143386,
     "end_time": "2025-03-12T02:43:58.009319",
     "exception": false,
     "start_time": "2025-03-12T02:43:57.865933",
     "status": "completed"
    },
    "tags": []
   },
   "outputs": [],
   "source": [
    "from sklearn.linear_model import LinearRegression"
   ]
  },
  {
   "cell_type": "code",
   "execution_count": 7,
   "id": "6e3c8172",
   "metadata": {
    "execution": {
     "iopub.execute_input": "2025-03-12T02:43:58.020127Z",
     "iopub.status.busy": "2025-03-12T02:43:58.019715Z",
     "iopub.status.idle": "2025-03-12T02:43:58.024188Z",
     "shell.execute_reply": "2025-03-12T02:43:58.022948Z"
    },
    "papermill": {
     "duration": 0.011734,
     "end_time": "2025-03-12T02:43:58.025892",
     "exception": false,
     "start_time": "2025-03-12T02:43:58.014158",
     "status": "completed"
    },
    "tags": []
   },
   "outputs": [],
   "source": [
    "lr = LinearRegression()"
   ]
  },
  {
   "cell_type": "code",
   "execution_count": 8,
   "id": "948c8988",
   "metadata": {
    "execution": {
     "iopub.execute_input": "2025-03-12T02:43:58.036491Z",
     "iopub.status.busy": "2025-03-12T02:43:58.036110Z",
     "iopub.status.idle": "2025-03-12T02:43:58.066926Z",
     "shell.execute_reply": "2025-03-12T02:43:58.065914Z"
    },
    "papermill": {
     "duration": 0.038193,
     "end_time": "2025-03-12T02:43:58.068615",
     "exception": false,
     "start_time": "2025-03-12T02:43:58.030422",
     "status": "completed"
    },
    "tags": []
   },
   "outputs": [
    {
     "data": {
      "text/html": [
       "<style>#sk-container-id-1 {color: black;background-color: white;}#sk-container-id-1 pre{padding: 0;}#sk-container-id-1 div.sk-toggleable {background-color: white;}#sk-container-id-1 label.sk-toggleable__label {cursor: pointer;display: block;width: 100%;margin-bottom: 0;padding: 0.3em;box-sizing: border-box;text-align: center;}#sk-container-id-1 label.sk-toggleable__label-arrow:before {content: \"▸\";float: left;margin-right: 0.25em;color: #696969;}#sk-container-id-1 label.sk-toggleable__label-arrow:hover:before {color: black;}#sk-container-id-1 div.sk-estimator:hover label.sk-toggleable__label-arrow:before {color: black;}#sk-container-id-1 div.sk-toggleable__content {max-height: 0;max-width: 0;overflow: hidden;text-align: left;background-color: #f0f8ff;}#sk-container-id-1 div.sk-toggleable__content pre {margin: 0.2em;color: black;border-radius: 0.25em;background-color: #f0f8ff;}#sk-container-id-1 input.sk-toggleable__control:checked~div.sk-toggleable__content {max-height: 200px;max-width: 100%;overflow: auto;}#sk-container-id-1 input.sk-toggleable__control:checked~label.sk-toggleable__label-arrow:before {content: \"▾\";}#sk-container-id-1 div.sk-estimator input.sk-toggleable__control:checked~label.sk-toggleable__label {background-color: #d4ebff;}#sk-container-id-1 div.sk-label input.sk-toggleable__control:checked~label.sk-toggleable__label {background-color: #d4ebff;}#sk-container-id-1 input.sk-hidden--visually {border: 0;clip: rect(1px 1px 1px 1px);clip: rect(1px, 1px, 1px, 1px);height: 1px;margin: -1px;overflow: hidden;padding: 0;position: absolute;width: 1px;}#sk-container-id-1 div.sk-estimator {font-family: monospace;background-color: #f0f8ff;border: 1px dotted black;border-radius: 0.25em;box-sizing: border-box;margin-bottom: 0.5em;}#sk-container-id-1 div.sk-estimator:hover {background-color: #d4ebff;}#sk-container-id-1 div.sk-parallel-item::after {content: \"\";width: 100%;border-bottom: 1px solid gray;flex-grow: 1;}#sk-container-id-1 div.sk-label:hover label.sk-toggleable__label {background-color: #d4ebff;}#sk-container-id-1 div.sk-serial::before {content: \"\";position: absolute;border-left: 1px solid gray;box-sizing: border-box;top: 0;bottom: 0;left: 50%;z-index: 0;}#sk-container-id-1 div.sk-serial {display: flex;flex-direction: column;align-items: center;background-color: white;padding-right: 0.2em;padding-left: 0.2em;position: relative;}#sk-container-id-1 div.sk-item {position: relative;z-index: 1;}#sk-container-id-1 div.sk-parallel {display: flex;align-items: stretch;justify-content: center;background-color: white;position: relative;}#sk-container-id-1 div.sk-item::before, #sk-container-id-1 div.sk-parallel-item::before {content: \"\";position: absolute;border-left: 1px solid gray;box-sizing: border-box;top: 0;bottom: 0;left: 50%;z-index: -1;}#sk-container-id-1 div.sk-parallel-item {display: flex;flex-direction: column;z-index: 1;position: relative;background-color: white;}#sk-container-id-1 div.sk-parallel-item:first-child::after {align-self: flex-end;width: 50%;}#sk-container-id-1 div.sk-parallel-item:last-child::after {align-self: flex-start;width: 50%;}#sk-container-id-1 div.sk-parallel-item:only-child::after {width: 0;}#sk-container-id-1 div.sk-dashed-wrapped {border: 1px dashed gray;margin: 0 0.4em 0.5em 0.4em;box-sizing: border-box;padding-bottom: 0.4em;background-color: white;}#sk-container-id-1 div.sk-label label {font-family: monospace;font-weight: bold;display: inline-block;line-height: 1.2em;}#sk-container-id-1 div.sk-label-container {text-align: center;}#sk-container-id-1 div.sk-container {/* jupyter's `normalize.less` sets `[hidden] { display: none; }` but bootstrap.min.css set `[hidden] { display: none !important; }` so we also need the `!important` here to be able to override the default hidden behavior on the sphinx rendered scikit-learn.org. See: https://github.com/scikit-learn/scikit-learn/issues/21755 */display: inline-block !important;position: relative;}#sk-container-id-1 div.sk-text-repr-fallback {display: none;}</style><div id=\"sk-container-id-1\" class=\"sk-top-container\"><div class=\"sk-text-repr-fallback\"><pre>LinearRegression()</pre><b>In a Jupyter environment, please rerun this cell to show the HTML representation or trust the notebook. <br />On GitHub, the HTML representation is unable to render, please try loading this page with nbviewer.org.</b></div><div class=\"sk-container\" hidden><div class=\"sk-item\"><div class=\"sk-estimator sk-toggleable\"><input class=\"sk-toggleable__control sk-hidden--visually\" id=\"sk-estimator-id-1\" type=\"checkbox\" checked><label for=\"sk-estimator-id-1\" class=\"sk-toggleable__label sk-toggleable__label-arrow\">LinearRegression</label><div class=\"sk-toggleable__content\"><pre>LinearRegression()</pre></div></div></div></div></div>"
      ],
      "text/plain": [
       "LinearRegression()"
      ]
     },
     "execution_count": 8,
     "metadata": {},
     "output_type": "execute_result"
    }
   ],
   "source": [
    "lr.fit(x_train,y_train)"
   ]
  },
  {
   "cell_type": "code",
   "execution_count": 9,
   "id": "4521e048",
   "metadata": {
    "execution": {
     "iopub.execute_input": "2025-03-12T02:43:58.079681Z",
     "iopub.status.busy": "2025-03-12T02:43:58.079253Z",
     "iopub.status.idle": "2025-03-12T02:43:58.085654Z",
     "shell.execute_reply": "2025-03-12T02:43:58.084369Z"
    },
    "papermill": {
     "duration": 0.013791,
     "end_time": "2025-03-12T02:43:58.087470",
     "exception": false,
     "start_time": "2025-03-12T02:43:58.073679",
     "status": "completed"
    },
    "tags": []
   },
   "outputs": [
    {
     "name": "stdout",
     "output_type": "stream",
     "text": [
      "[18.34036726]\n",
      "0.5553017818028809\n"
     ]
    }
   ],
   "source": [
    "print(lr.coef_)\n",
    "print(lr.intercept_)"
   ]
  },
  {
   "cell_type": "code",
   "execution_count": 10,
   "id": "030a79fa",
   "metadata": {
    "execution": {
     "iopub.execute_input": "2025-03-12T02:43:58.098796Z",
     "iopub.status.busy": "2025-03-12T02:43:58.098375Z",
     "iopub.status.idle": "2025-03-12T02:43:58.103071Z",
     "shell.execute_reply": "2025-03-12T02:43:58.102029Z"
    },
    "papermill": {
     "duration": 0.012266,
     "end_time": "2025-03-12T02:43:58.104708",
     "exception": false,
     "start_time": "2025-03-12T02:43:58.092442",
     "status": "completed"
    },
    "tags": []
   },
   "outputs": [],
   "source": [
    "y_pred = lr.predict(x_test)"
   ]
  },
  {
   "cell_type": "code",
   "execution_count": 11,
   "id": "53631972",
   "metadata": {
    "execution": {
     "iopub.execute_input": "2025-03-12T02:43:58.115986Z",
     "iopub.status.busy": "2025-03-12T02:43:58.115550Z",
     "iopub.status.idle": "2025-03-12T02:43:58.119912Z",
     "shell.execute_reply": "2025-03-12T02:43:58.118713Z"
    },
    "papermill": {
     "duration": 0.011774,
     "end_time": "2025-03-12T02:43:58.121545",
     "exception": false,
     "start_time": "2025-03-12T02:43:58.109771",
     "status": "completed"
    },
    "tags": []
   },
   "outputs": [],
   "source": [
    "from sklearn.metrics import r2_score"
   ]
  },
  {
   "cell_type": "code",
   "execution_count": 12,
   "id": "5dab3d60",
   "metadata": {
    "execution": {
     "iopub.execute_input": "2025-03-12T02:43:58.132677Z",
     "iopub.status.busy": "2025-03-12T02:43:58.132242Z",
     "iopub.status.idle": "2025-03-12T02:43:58.138977Z",
     "shell.execute_reply": "2025-03-12T02:43:58.138006Z"
    },
    "papermill": {
     "duration": 0.01419,
     "end_time": "2025-03-12T02:43:58.140712",
     "exception": false,
     "start_time": "2025-03-12T02:43:58.126522",
     "status": "completed"
    },
    "tags": []
   },
   "outputs": [
    {
     "data": {
      "text/plain": [
       "0.6022961615933801"
      ]
     },
     "execution_count": 12,
     "metadata": {},
     "output_type": "execute_result"
    }
   ],
   "source": [
    "r2_score(y_test,y_pred)"
   ]
  },
  {
   "cell_type": "markdown",
   "id": "9db1ae86",
   "metadata": {
    "papermill": {
     "duration": 0.004701,
     "end_time": "2025-03-12T02:43:58.150600",
     "exception": false,
     "start_time": "2025-03-12T02:43:58.145899",
     "status": "completed"
    },
    "tags": []
   },
   "source": [
    "* **SELF ALGORITHM**"
   ]
  },
  {
   "cell_type": "code",
   "execution_count": 13,
   "id": "3684f14e",
   "metadata": {
    "execution": {
     "iopub.execute_input": "2025-03-12T02:43:58.161936Z",
     "iopub.status.busy": "2025-03-12T02:43:58.161450Z",
     "iopub.status.idle": "2025-03-12T02:43:58.168211Z",
     "shell.execute_reply": "2025-03-12T02:43:58.167088Z"
    },
    "papermill": {
     "duration": 0.01446,
     "end_time": "2025-03-12T02:43:58.170009",
     "exception": false,
     "start_time": "2025-03-12T02:43:58.155549",
     "status": "completed"
    },
    "tags": []
   },
   "outputs": [],
   "source": [
    "class MYRegressor:\n",
    "    def __init__(self,learning_rate,epochs):\n",
    "        self.m = 100\n",
    "        self.b = -120\n",
    "        self.lr = learning_rate\n",
    "        self.epochs = epochs\n",
    "\n",
    "    def fit(self,x,y):\n",
    "        # calculate the b using GD\n",
    "        for i in range (self.epochs):\n",
    "            loss_slope_b = -2 * np.sum(y - self.m * x.ravel() - self.b)\n",
    "            loss_slope_m = -2 * np.sum((y - self.m * x.ravel() - self.b) * x.ravel())\n",
    "\n",
    "            self.b = self.b - (self.lr * loss_slope_b)\n",
    "            self.m = self.m - (self.lr * loss_slope_m)\n",
    "        print(self.m,self.b)\n",
    "\n",
    "    def predict(self,x):\n",
    "        return self.m * x + self.b\n",
    "        "
   ]
  },
  {
   "cell_type": "code",
   "execution_count": 14,
   "id": "64aebdbd",
   "metadata": {
    "execution": {
     "iopub.execute_input": "2025-03-12T02:43:58.181484Z",
     "iopub.status.busy": "2025-03-12T02:43:58.181077Z",
     "iopub.status.idle": "2025-03-12T02:43:58.185276Z",
     "shell.execute_reply": "2025-03-12T02:43:58.184344Z"
    },
    "papermill": {
     "duration": 0.011957,
     "end_time": "2025-03-12T02:43:58.187028",
     "exception": false,
     "start_time": "2025-03-12T02:43:58.175071",
     "status": "completed"
    },
    "tags": []
   },
   "outputs": [],
   "source": [
    "gd = MYRegressor(0.001,50)"
   ]
  },
  {
   "cell_type": "code",
   "execution_count": 15,
   "id": "8d3102cf",
   "metadata": {
    "execution": {
     "iopub.execute_input": "2025-03-12T02:43:58.198455Z",
     "iopub.status.busy": "2025-03-12T02:43:58.198081Z",
     "iopub.status.idle": "2025-03-12T02:43:58.204410Z",
     "shell.execute_reply": "2025-03-12T02:43:58.203438Z"
    },
    "papermill": {
     "duration": 0.013828,
     "end_time": "2025-03-12T02:43:58.206057",
     "exception": false,
     "start_time": "2025-03-12T02:43:58.192229",
     "status": "completed"
    },
    "tags": []
   },
   "outputs": [
    {
     "name": "stdout",
     "output_type": "stream",
     "text": [
      "18.334652696132263 0.5368264645455904\n"
     ]
    }
   ],
   "source": [
    "gd.fit(x_train,y_train)"
   ]
  },
  {
   "cell_type": "code",
   "execution_count": 16,
   "id": "f258b826",
   "metadata": {
    "execution": {
     "iopub.execute_input": "2025-03-12T02:43:58.217339Z",
     "iopub.status.busy": "2025-03-12T02:43:58.216981Z",
     "iopub.status.idle": "2025-03-12T02:43:58.223602Z",
     "shell.execute_reply": "2025-03-12T02:43:58.222578Z"
    },
    "papermill": {
     "duration": 0.014299,
     "end_time": "2025-03-12T02:43:58.225346",
     "exception": false,
     "start_time": "2025-03-12T02:43:58.211047",
     "status": "completed"
    },
    "tags": []
   },
   "outputs": [
    {
     "data": {
      "text/plain": [
       "0.6021148770803858"
      ]
     },
     "execution_count": 16,
     "metadata": {},
     "output_type": "execute_result"
    }
   ],
   "source": [
    "y_pred = gd.predict(x_test)\n",
    "from sklearn.metrics import r2_score\n",
    "r2_score(y_test,y_pred)"
   ]
  },
  {
   "cell_type": "code",
   "execution_count": null,
   "id": "39956c9c",
   "metadata": {
    "papermill": {
     "duration": 0.004887,
     "end_time": "2025-03-12T02:43:58.235875",
     "exception": false,
     "start_time": "2025-03-12T02:43:58.230988",
     "status": "completed"
    },
    "tags": []
   },
   "outputs": [],
   "source": []
  }
 ],
 "metadata": {
  "kaggle": {
   "accelerator": "none",
   "dataSources": [],
   "dockerImageVersionId": 30918,
   "isGpuEnabled": false,
   "isInternetEnabled": true,
   "language": "python",
   "sourceType": "notebook"
  },
  "kernelspec": {
   "display_name": "Python 3",
   "language": "python",
   "name": "python3"
  },
  "language_info": {
   "codemirror_mode": {
    "name": "ipython",
    "version": 3
   },
   "file_extension": ".py",
   "mimetype": "text/x-python",
   "name": "python",
   "nbconvert_exporter": "python",
   "pygments_lexer": "ipython3",
   "version": "3.10.12"
  },
  "papermill": {
   "default_parameters": {},
   "duration": 7.177592,
   "end_time": "2025-03-12T02:43:58.962439",
   "environment_variables": {},
   "exception": null,
   "input_path": "__notebook__.ipynb",
   "output_path": "__notebook__.ipynb",
   "parameters": {},
   "start_time": "2025-03-12T02:43:51.784847",
   "version": "2.6.0"
  }
 },
 "nbformat": 4,
 "nbformat_minor": 5
}
